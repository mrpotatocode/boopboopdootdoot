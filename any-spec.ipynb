{
 "cells": [
  {
   "cell_type": "code",
   "execution_count": 1,
   "metadata": {},
   "outputs": [],
   "source": [
    "from scipy.io import wavfile\n",
    "from scipy import signal\n",
    "import matplotlib.pyplot as plt\n",
    "from matplotlib.colors import LogNorm\n",
    "from pathlib import Path\n",
    "import os"
   ]
  },
  {
   "cell_type": "code",
   "execution_count": 2,
   "metadata": {},
   "outputs": [],
   "source": [
    "wav_directory = '/wav'"
   ]
  },
  {
   "cell_type": "code",
   "execution_count": 3,
   "metadata": {},
   "outputs": [
    {
     "name": "stdout",
     "output_type": "stream",
     "text": [
      "10 - Child Of Vision.wav\n",
      "01 - Gone Hollywood.wav\n",
      "05 - Oh Darling.wav\n",
      "06 - Take The Long Way Home.wav\n",
      "08 - Just Another Nervous Wreck.wav\n",
      "03 - Goodbye Stranger.wav\n",
      "04 - Breakfast In America.wav\n",
      "02 - The Logical Song.wav\n",
      "07 - Lord Is It Mine.wav\n",
      "09 - Casual Conversations.wav\n"
     ]
    }
   ],
   "source": [
    "for subdir, dirs, files in os.walk(wav_directory):\n",
    "    for file in files:\n",
    "        #print os.path.join(subdir, file)\n",
    "        filepath = subdir + os.sep + file\n",
    "\n",
    "        if filepath.endswith(\".wav\"):\n",
    "            print (file)"
   ]
  },
  {
   "cell_type": "code",
   "execution_count": 4,
   "metadata": {},
   "outputs": [],
   "source": [
    "#for wav_file in Path(wav_directory).glob(\"*.wav\"):\n",
    "    #print(wav_file.stem)"
   ]
  },
  {
   "cell_type": "code",
   "execution_count": 5,
   "metadata": {},
   "outputs": [],
   "source": [
    "results_dir = 'img/'"
   ]
  },
  {
   "cell_type": "code",
   "execution_count": null,
   "metadata": {},
   "outputs": [
    {
     "name": "stdout",
     "output_type": "stream",
     "text": [
      " STARTED: /Users/thomas/Downloads/Supertramp - Breakfast In America (1-4 15 IPS Master Tape Transfer) [WAV 32 - 96]/10 - Child Of Vision.wav\n"
     ]
    },
    {
     "name": "stderr",
     "output_type": "stream",
     "text": [
      "//anaconda3/lib/python3.7/site-packages/ipykernel_launcher.py:10: WavFileWarning: Chunk (non-data) not understood, skipping it.\n",
      "  # Remove the CWD from sys.path while we load stuff.\n",
      "//anaconda3/lib/python3.7/site-packages/ipykernel_launcher.py:22: MatplotlibDeprecationWarning: shading='flat' when X and Y have the same dimensions as C is deprecated since 3.3.  Either specify the corners of the quadrilaterals with X and Y, or pass shading='auto', 'nearest' or 'gouraud', or set rcParams['pcolor.shading'].  This will become an error two minor releases later.\n"
     ]
    },
    {
     "name": "stdout",
     "output_type": "stream",
     "text": [
      " DONE: /Users/thomas/Downloads/Supertramp - Breakfast In America (1-4 15 IPS Master Tape Transfer) [WAV 32 - 96]/10 - Child Of Vision.wav\n",
      " STARTED: /Users/thomas/Downloads/Supertramp - Breakfast In America (1-4 15 IPS Master Tape Transfer) [WAV 32 - 96]/01 - Gone Hollywood.wav\n"
     ]
    }
   ],
   "source": [
    "for subdir, dirs, files in os.walk(wav_directory):\n",
    "    for file in files:\n",
    "        #print os.path.join(subdir, file)\n",
    "        filepath = subdir + os.sep + file\n",
    "\n",
    "        if filepath.endswith(\".wav\"):\n",
    "            \n",
    "            \n",
    "            try:\n",
    "                FS, data = wavfile.read(filepath)\n",
    "                print (' STARTED: ' + filepath )\n",
    "                sig = data.sum(axis=1)\n",
    "\n",
    "                f, t, Sxx = signal.spectrogram(\n",
    "                    sig, FS, mode=\"psd\", nperseg=1024 * 2, noverlap=16, nfft=4096 * 8\n",
    "                )\n",
    "\n",
    "                vmax = Sxx.max()\n",
    "                vmin, vmax = vmax / 1.0e4, vmax\n",
    "\n",
    "                plt.figure(figsize=[20, 10])\n",
    "                plt.pcolormesh(t, f, Sxx, norm=LogNorm(vmin=vmin, vmax=vmax), cmap=\"YlGnBu_r\")\n",
    "                plt.ylim(100, 7000)\n",
    "                plt.yscale(\"log\")\n",
    "                plt.ylabel(\"f [Hz]\")\n",
    "                plt.xlabel(\"t [sec]\")\n",
    "\n",
    "                plt.savefig(results_dir + file + \".png\", dpi=200, bbox_inches=\"tight\")\n",
    "                plt.close()\n",
    "                print (' DONE: ' + filepath)\n",
    "            except:\n",
    "                print (' SKIPPED: ' + filepath + ' (needs to be 32bitrate)')\n",
    "                pass"
   ]
  },
  {
   "cell_type": "code",
   "execution_count": null,
   "metadata": {},
   "outputs": [],
   "source": []
  }
 ],
 "metadata": {
  "kernelspec": {
   "display_name": "Python 3",
   "language": "python",
   "name": "python3"
  },
  "language_info": {
   "codemirror_mode": {
    "name": "ipython",
    "version": 3
   },
   "file_extension": ".py",
   "mimetype": "text/x-python",
   "name": "python",
   "nbconvert_exporter": "python",
   "pygments_lexer": "ipython3",
   "version": "3.7.7"
  }
 },
 "nbformat": 4,
 "nbformat_minor": 4
}
